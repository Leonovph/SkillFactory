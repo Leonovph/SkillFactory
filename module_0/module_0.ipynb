{
 "cells": [
  {
   "cell_type": "code",
   "execution_count": 1,
   "metadata": {},
   "outputs": [],
   "source": [
    "import numpy as np\n",
    "import random\n",
    "\n",
    "#Run the game 1000 times to find out how fast the game guesses the number.\n",
    "def score_game(game_core):\n",
    "    count_ls = []\n",
    "    random.seed(1)  #Fix the random seed so that your experiment is reproducible.\n",
    "    random_array = np.random.randint(1,101,size=1000)\n",
    "    for number in random_array:\n",
    "        count_ls.append(game_core(number))\n",
    "    score = int(np.mean(count_ls))\n",
    "    print(f\"Ваш алгоритм угадывает число в среднем за {score} попыток\")\n",
    "    return(score)\n",
    "\n",
    "#To reduce the number of attempts, we use the algorithm of guessing from the remaining half. \n",
    "def game_core_v_leonov(number):    \n",
    "    lowest_number = 0\n",
    "    highest_number = 100\n",
    "    guess = np.random.randint(1,101)\n",
    "    count = 1  \n",
    "    \n",
    "    while number != guess:\n",
    "        count+=1\n",
    "        if guess < number:\n",
    "            lowest_number = guess\n",
    "            guess = round((guess + highest_number)/2)\n",
    "            \n",
    "        elif guess == number:\n",
    "            break # Выход из цикла, если угадали\n",
    "\n",
    "        else:\n",
    "            highest_number = guess\n",
    "            guess = round((guess + lowest_number)/2)\n",
    "    return(count)"
   ]
  },
  {
   "cell_type": "code",
   "execution_count": 2,
   "metadata": {},
   "outputs": [
    {
     "name": "stdout",
     "output_type": "stream",
     "text": [
      "Ваш алгоритм угадывает число в среднем за 6 попыток\n"
     ]
    },
    {
     "data": {
      "text/plain": [
       "6"
      ]
     },
     "execution_count": 2,
     "metadata": {},
     "output_type": "execute_result"
    }
   ],
   "source": [
    "score_game(game_core_v_leonov)"
   ]
  },
  {
   "cell_type": "code",
   "execution_count": null,
   "metadata": {},
   "outputs": [],
   "source": []
  }
 ],
 "metadata": {
  "kernelspec": {
   "display_name": "Python 3",
   "language": "python",
   "name": "python3"
  },
  "language_info": {
   "codemirror_mode": {
    "name": "ipython",
    "version": 3
   },
   "file_extension": ".py",
   "mimetype": "text/x-python",
   "name": "python",
   "nbconvert_exporter": "python",
   "pygments_lexer": "ipython3",
   "version": "3.8.5"
  }
 },
 "nbformat": 4,
 "nbformat_minor": 4
}
