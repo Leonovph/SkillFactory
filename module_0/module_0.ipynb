{
 "cells": [
  {
   "cell_type": "code",
   "execution_count": 1,
   "metadata": {},
   "outputs": [
    {
     "name": "stdout",
     "output_type": "stream",
     "text": [
      "Здравствуйте! Как вас зовут?\n",
      "Мария\n",
      "Отлично, Мария, я загадал число между 1 и 100.\n",
      "Попробуйте его угадать.\n",
      "Введите число: 50\n",
      "Ваше число меньше загаданного.\n",
      "Введите число: 60\n",
      "Ваше число меньше загаданного.\n",
      "Введите число: 70\n",
      "Ваше число меньше загаданного.\n",
      "Введите число: 80\n",
      "Ваше число меньше загаданного.\n",
      "Введите число: 90\n",
      "Ваше число меньше загаданного.\n",
      "Введите число: 99\n",
      "Ваше число больше загаданного.\n",
      "Введите число: 95\n",
      "Ваше число больше загаданного.\n",
      "Введите число: 93\n",
      "Вы угадали мое число с 8 попытки!\n"
     ]
    }
   ],
   "source": [
    "# Import random numbers module\n",
    "import random\n",
    "# Number of attempts to guess\n",
    "count_guesses = 0\n",
    "# Get the user name\n",
    "name = input('Здравствуйте! Как вас зовут?\\n')\n",
    "# Get a random number in the range from 1 to 100\n",
    "number = random.randint(1, 100)\n",
    "print ('Отлично, ', name,', я загадал число между 1 и 100.',sep=''.format(name))\n",
    "print ('Попробуйте его угадать.'.format(name))\n",
    "\n",
    "# Сount the number of attempts\n",
    "while count_guesses != number:\n",
    "    # Get the number from user\n",
    "    guess = int(input('Введите число: '))\n",
    "    # Increasing the number of attempts counter\n",
    "    count_guesses += 1\n",
    "\n",
    "    if guess < number:\n",
    "        print ('Ваше число меньше загаданного.')\n",
    "    if guess > number:\n",
    "        print ('Ваше число больше загаданного.')\n",
    "    if guess == number:\n",
    "        break\n",
    "# Print the number of attempts\n",
    "print ('Вы угадали мое число с {1} попытки!'.format(name, count_guesses))"
   ]
  },
  {
   "cell_type": "code",
   "execution_count": null,
   "metadata": {},
   "outputs": [],
   "source": []
  }
 ],
 "metadata": {
  "kernelspec": {
   "display_name": "Python 3",
   "language": "python",
   "name": "python3"
  },
  "language_info": {
   "codemirror_mode": {
    "name": "ipython",
    "version": 3
   },
   "file_extension": ".py",
   "mimetype": "text/x-python",
   "name": "python",
   "nbconvert_exporter": "python",
   "pygments_lexer": "ipython3",
   "version": "3.8.5"
  }
 },
 "nbformat": 4,
 "nbformat_minor": 4
}
